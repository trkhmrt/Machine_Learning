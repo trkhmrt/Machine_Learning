{
 "cells": [
  {
   "cell_type": "markdown",
   "id": "393a7b5b-a786-444b-b8e8-dcc4439c3a4c",
   "metadata": {},
   "source": [
    "# ARRAY SIRALAMA(SORTING)"
   ]
  },
  {
   "cell_type": "code",
   "execution_count": 8,
   "id": "862a8852-c9b3-4a8b-8cf4-3716639b3158",
   "metadata": {},
   "outputs": [],
   "source": [
    "import numpy as np"
   ]
  },
  {
   "cell_type": "code",
   "execution_count": 14,
   "id": "00d53935-7e7d-42d5-9ebf-d402e157db6f",
   "metadata": {},
   "outputs": [],
   "source": [
    "v = np.array([2,1,4,3,5])"
   ]
  },
  {
   "cell_type": "code",
   "execution_count": 18,
   "id": "093317e4-cc03-4b23-83e6-7a75df140815",
   "metadata": {},
   "outputs": [
    {
     "data": {
      "text/plain": [
       "array([2, 1, 4, 3, 5])"
      ]
     },
     "execution_count": 18,
     "metadata": {},
     "output_type": "execute_result"
    }
   ],
   "source": [
    "v "
   ]
  },
  {
   "cell_type": "code",
   "execution_count": 22,
   "id": "4c5ad6af-4105-49db-8eb5-4d1e0866752e",
   "metadata": {},
   "outputs": [
    {
     "data": {
      "text/plain": [
       "array([1, 2, 3, 4, 5])"
      ]
     },
     "execution_count": 22,
     "metadata": {},
     "output_type": "execute_result"
    }
   ],
   "source": [
    "np.sort(v) #küçükten büyüğe"
   ]
  },
  {
   "cell_type": "code",
   "execution_count": 26,
   "id": "52c4ba12-49d2-4ef4-ad7f-37dbc37399c1",
   "metadata": {},
   "outputs": [],
   "source": [
    "#İKİ BOYUTLU ARRAY SIRALAMA"
   ]
  },
  {
   "cell_type": "code",
   "execution_count": 37,
   "id": "64d20a46-4ef7-4f1f-8101-28b668657d48",
   "metadata": {},
   "outputs": [],
   "source": [
    "m = np.random.normal(20,5,(3,3))"
   ]
  },
  {
   "cell_type": "markdown",
   "id": "1e003009-0884-4812-9dfd-ed612beb8ea2",
   "metadata": {},
   "source": [
    "m"
   ]
  },
  {
   "cell_type": "code",
   "execution_count": 40,
   "id": "7700fa19-86c8-4b9f-8805-7f7edd85a64f",
   "metadata": {},
   "outputs": [
    {
     "data": {
      "text/plain": [
       "array([[11.56078958, 21.2671496 , 27.50253228],\n",
       "       [16.28293476, 17.32601783, 21.93271775],\n",
       "       [15.88104731, 20.90160146, 21.10744273]])"
      ]
     },
     "execution_count": 40,
     "metadata": {},
     "output_type": "execute_result"
    }
   ],
   "source": [
    "#X eksenindekileri küçükten büyüğe sıralar\n",
    "np.sort(m,axis = 1 )"
   ]
  },
  {
   "cell_type": "code",
   "execution_count": 44,
   "id": "c910e14d-1d14-4c53-b9e0-410abb233117",
   "metadata": {},
   "outputs": [
    {
     "data": {
      "text/plain": [
       "array([[15.88104731, 11.56078958, 21.10744273],\n",
       "       [17.32601783, 16.28293476, 21.93271775],\n",
       "       [21.2671496 , 20.90160146, 27.50253228]])"
      ]
     },
     "execution_count": 44,
     "metadata": {},
     "output_type": "execute_result"
    }
   ],
   "source": [
    "#Y eksenindekileri küçükten büyüğe sıralar\n",
    "np.sort(m,axis = 0 )"
   ]
  },
  {
   "cell_type": "code",
   "execution_count": null,
   "id": "1ebada35-2f13-4328-a283-8d12c6d658aa",
   "metadata": {},
   "outputs": [],
   "source": []
  }
 ],
 "metadata": {
  "kernelspec": {
   "display_name": "Python 3 (ipykernel)",
   "language": "python",
   "name": "python3"
  },
  "language_info": {
   "codemirror_mode": {
    "name": "ipython",
    "version": 3
   },
   "file_extension": ".py",
   "mimetype": "text/x-python",
   "name": "python",
   "nbconvert_exporter": "python",
   "pygments_lexer": "ipython3",
   "version": "3.12.7"
  }
 },
 "nbformat": 4,
 "nbformat_minor": 5
}
