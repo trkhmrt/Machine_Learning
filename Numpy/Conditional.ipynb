{
 "cells": [
  {
   "cell_type": "code",
   "execution_count": 26,
   "id": "1fd0b97b-1aa5-4eeb-9aba-a1af23063e50",
   "metadata": {},
   "outputs": [],
   "source": [
    " import numpy as np"
   ]
  },
  {
   "cell_type": "code",
   "execution_count": 28,
   "id": "67bc217a-5b24-410b-b78d-099eaaeb3af1",
   "metadata": {},
   "outputs": [],
   "source": [
    "v = np.array([1,10,23,7,12])"
   ]
  },
  {
   "cell_type": "code",
   "execution_count": 30,
   "id": "aed6f93e-eadb-4b34-8ec9-b982c8973151",
   "metadata": {},
   "outputs": [
    {
     "data": {
      "text/plain": [
       "array([10, 23,  7, 12])"
      ]
     },
     "execution_count": 30,
     "metadata": {},
     "output_type": "execute_result"
    }
   ],
   "source": [
    "#Dizi içinde bu şarta uyan elemanların tamamını getirir.\n",
    "v[v>3]"
   ]
  },
  {
   "cell_type": "code",
   "execution_count": 32,
   "id": "df5f3b34-6bf5-4cce-af75-2f5d41eb8b69",
   "metadata": {},
   "outputs": [
    {
     "data": {
      "text/plain": [
       "array([ 1, 10,  7, 12])"
      ]
     },
     "execution_count": 32,
     "metadata": {},
     "output_type": "execute_result"
    }
   ],
   "source": [
    "v[v!=23]"
   ]
  }
 ],
 "metadata": {
  "kernelspec": {
   "display_name": "Python 3 (ipykernel)",
   "language": "python",
   "name": "python3"
  },
  "language_info": {
   "codemirror_mode": {
    "name": "ipython",
    "version": 3
   },
   "file_extension": ".py",
   "mimetype": "text/x-python",
   "name": "python",
   "nbconvert_exporter": "python",
   "pygments_lexer": "ipython3",
   "version": "3.12.7"
  }
 },
 "nbformat": 4,
 "nbformat_minor": 5
}
