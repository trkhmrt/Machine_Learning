{
 "cells": [
  {
   "cell_type": "markdown",
   "id": "f97a34a3-cecd-4cc0-9121-ca26a9428425",
   "metadata": {},
   "source": [
    "# ARRAY ALT KÜMELERE ERİŞMEK"
   ]
  },
  {
   "cell_type": "code",
   "execution_count": 5,
   "id": "c231b271-5761-47cd-8e6b-06c97f73f9c6",
   "metadata": {},
   "outputs": [],
   "source": [
    "import numpy as np"
   ]
  },
  {
   "cell_type": "code",
   "execution_count": 9,
   "id": "eaae534a-0a45-409d-ae28-f6ab4e0db1ac",
   "metadata": {},
   "outputs": [
    {
     "data": {
      "text/plain": [
       "array([20, 21, 22, 23, 24, 25, 26, 27, 28, 29])"
      ]
     },
     "execution_count": 9,
     "metadata": {},
     "output_type": "execute_result"
    }
   ],
   "source": [
    "a = np.arange(20,30)\n",
    "a"
   ]
  },
  {
   "cell_type": "code",
   "execution_count": 11,
   "id": "233e0763-0c01-4a7a-b3a4-ac7093faafe1",
   "metadata": {},
   "outputs": [
    {
     "data": {
      "text/plain": [
       "array([20, 21, 22])"
      ]
     },
     "execution_count": 11,
     "metadata": {},
     "output_type": "execute_result"
    }
   ],
   "source": [
    "#0 dan başla 3 eleman al ilk eleman dahil.\n",
    "a[0:3]"
   ]
  },
  {
   "cell_type": "code",
   "execution_count": null,
   "id": "cfc049d9-cf73-4ff7-90e5-e985dcbb26c8",
   "metadata": {},
   "outputs": [],
   "source": [
    "#3. indeksten başla dizinin geri kalan elemanlarını al\n",
    "a[3:]"
   ]
  },
  {
   "cell_type": "code",
   "execution_count": 13,
   "id": "f2b6655c-3a5c-4cd3-880a-6cfec8611518",
   "metadata": {},
   "outputs": [
    {
     "data": {
      "text/plain": [
       "array([21, 23, 25, 27, 29])"
      ]
     },
     "execution_count": 13,
     "metadata": {},
     "output_type": "execute_result"
    }
   ],
   "source": [
    "#Birinci indeksten başka ikişer ikişer atlayarak git\n",
    "a[1::2]"
   ]
  },
  {
   "cell_type": "code",
   "execution_count": 17,
   "id": "cbe24709-e5ff-4aa0-9a22-1df02287bfd5",
   "metadata": {},
   "outputs": [],
   "source": [
    "#İKİ BOYUTLU SLİCE İŞLEMLERİ"
   ]
  },
  {
   "cell_type": "code",
   "execution_count": 23,
   "id": "923cf0c2-8321-4f66-b31f-8b37b0164b28",
   "metadata": {},
   "outputs": [],
   "source": [
    "m = np.random.randint(10,size = (5,5))"
   ]
  },
  {
   "cell_type": "code",
   "execution_count": 25,
   "id": "8ec13e9a-17bd-439b-a37f-2d8f31ceed5a",
   "metadata": {},
   "outputs": [
    {
     "data": {
      "text/plain": [
       "array([[9, 6, 4, 8, 4],\n",
       "       [3, 3, 0, 6, 4],\n",
       "       [9, 4, 1, 8, 7],\n",
       "       [2, 3, 7, 0, 6],\n",
       "       [4, 2, 1, 2, 7]])"
      ]
     },
     "execution_count": 25,
     "metadata": {},
     "output_type": "execute_result"
    }
   ],
   "source": [
    "m"
   ]
  },
  {
   "cell_type": "code",
   "execution_count": 35,
   "id": "a8061395-ebf9-4850-b7d2-23b20b8e8d8c",
   "metadata": {},
   "outputs": [
    {
     "data": {
      "text/plain": [
       "array([9, 3, 9, 2, 4])"
      ]
     },
     "execution_count": 35,
     "metadata": {},
     "output_type": "execute_result"
    }
   ],
   "source": [
    "#0.sütunda bütün elemanlara eriş.\n",
    "m[:,0]"
   ]
  },
  {
   "cell_type": "code",
   "execution_count": 37,
   "id": "cef85402-1f29-4697-a5c9-4e1686d1a9a0",
   "metadata": {},
   "outputs": [
    {
     "data": {
      "text/plain": [
       "array([9, 6, 4, 8, 4])"
      ]
     },
     "execution_count": 37,
     "metadata": {},
     "output_type": "execute_result"
    }
   ],
   "source": [
    "#0.satırda bütün elemanları erişti\n",
    "m[0,:]"
   ]
  },
  {
   "cell_type": "code",
   "execution_count": 39,
   "id": "63a2c96f-9bfa-4585-95fb-1740c1d2a0bb",
   "metadata": {},
   "outputs": [
    {
     "data": {
      "text/plain": [
       "array([9, 6, 4, 8, 4])"
      ]
     },
     "execution_count": 39,
     "metadata": {},
     "output_type": "execute_result"
    }
   ],
   "source": [
    "#0. satırda bütün elemanlara eriş\n",
    "m[0] "
   ]
  },
  {
   "cell_type": "code",
   "execution_count": 41,
   "id": "1ae0f965-ae80-4b00-9b8e-e3df082a19ab",
   "metadata": {},
   "outputs": [
    {
     "data": {
      "text/plain": [
       "array([[9, 6, 4],\n",
       "       [3, 3, 0]])"
      ]
     },
     "execution_count": 41,
     "metadata": {},
     "output_type": "execute_result"
    }
   ],
   "source": [
    "#0 dan 2 ye satırları aldı 0 dan 3 kadar sütunları aldı.\n",
    "m[0:2,0:3]"
   ]
  },
  {
   "cell_type": "code",
   "execution_count": 49,
   "id": "0ee54c21-0978-4ade-9ec9-69fd563dff70",
   "metadata": {},
   "outputs": [
    {
     "data": {
      "text/plain": [
       "array([[9, 6],\n",
       "       [3, 3],\n",
       "       [9, 4],\n",
       "       [2, 3],\n",
       "       [4, 2]])"
      ]
     },
     "execution_count": 49,
     "metadata": {},
     "output_type": "execute_result"
    }
   ],
   "source": [
    "#\n",
    "m[:,:2]"
   ]
  }
 ],
 "metadata": {
  "kernelspec": {
   "display_name": "Python 3 (ipykernel)",
   "language": "python",
   "name": "python3"
  },
  "language_info": {
   "codemirror_mode": {
    "name": "ipython",
    "version": 3
   },
   "file_extension": ".py",
   "mimetype": "text/x-python",
   "name": "python",
   "nbconvert_exporter": "python",
   "pygments_lexer": "ipython3",
   "version": "3.12.7"
  }
 },
 "nbformat": 4,
 "nbformat_minor": 5
}
