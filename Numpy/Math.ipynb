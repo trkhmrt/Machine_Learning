{
 "cells": [
  {
   "cell_type": "markdown",
   "id": "16d6300f-188d-49b8-a282-e28d94ac9f67",
   "metadata": {},
   "source": [
    "# Matematiksel İşlemler\n"
   ]
  },
  {
   "cell_type": "code",
   "execution_count": 11,
   "id": "92ae2224-4a39-4585-bc0a-5df246787ce1",
   "metadata": {},
   "outputs": [],
   "source": [
    "import numpy as np"
   ]
  },
  {
   "cell_type": "code",
   "execution_count": 13,
   "id": "18309125-53e9-495c-ba00-5d4619e63d3e",
   "metadata": {},
   "outputs": [],
   "source": [
    "v = np.array([1,23,45,12,23,12])"
   ]
  },
  {
   "cell_type": "code",
   "execution_count": 15,
   "id": "45767487-17d5-403a-bd2a-0abbed04519b",
   "metadata": {},
   "outputs": [],
   "source": [
    "#ufunc"
   ]
  },
  {
   "cell_type": "code",
   "execution_count": 19,
   "id": "d8666d1f-3e9c-4a13-91e9-4c6432ff9b4e",
   "metadata": {},
   "outputs": [
    {
     "data": {
      "text/plain": [
       "array([ 0, 22, 44, 11, 22, 11])"
      ]
     },
     "execution_count": 19,
     "metadata": {},
     "output_type": "execute_result"
    }
   ],
   "source": [
    "np.subtract(v,1)"
   ]
  },
  {
   "cell_type": "code",
   "execution_count": 21,
   "id": "1b1ae0a7-6ea2-4328-8ff5-e243ada7cb18",
   "metadata": {},
   "outputs": [
    {
     "data": {
      "text/plain": [
       "array([ 2, 46, 90, 24, 46, 24])"
      ]
     },
     "execution_count": 21,
     "metadata": {},
     "output_type": "execute_result"
    }
   ],
   "source": [
    "np.multiply(v,2)"
   ]
  },
  {
   "cell_type": "code",
   "execution_count": 23,
   "id": "77b35880-624c-4638-9d99-cd141f93b834",
   "metadata": {},
   "outputs": [
    {
     "data": {
      "text/plain": [
       "array([ 0.33333333,  7.66666667, 15.        ,  4.        ,  7.66666667,\n",
       "        4.        ])"
      ]
     },
     "execution_count": 23,
     "metadata": {},
     "output_type": "execute_result"
    }
   ],
   "source": [
    "np.divide(v,3)"
   ]
  },
  {
   "cell_type": "code",
   "execution_count": 27,
   "id": "df37945e-da08-44d6-b0f0-17f32eabc78c",
   "metadata": {},
   "outputs": [
    {
     "data": {
      "text/plain": [
       "array([    1, 12167, 91125,  1728, 12167,  1728])"
      ]
     },
     "execution_count": 27,
     "metadata": {},
     "output_type": "execute_result"
    }
   ],
   "source": [
    "np.power(v,3)"
   ]
  },
  {
   "cell_type": "code",
   "execution_count": 30,
   "id": "e7b9ea38-801e-4520-99a7-efc6e1cadbcb",
   "metadata": {},
   "outputs": [
    {
     "data": {
      "text/plain": [
       "array([1, 1, 1, 0, 1, 0])"
      ]
     },
     "execution_count": 30,
     "metadata": {},
     "output_type": "execute_result"
    }
   ],
   "source": [
    "v % 2 "
   ]
  },
  {
   "cell_type": "code",
   "execution_count": null,
   "id": "716155d2-0fee-4bf3-94cb-88059e7794f2",
   "metadata": {},
   "outputs": [],
   "source": []
  }
 ],
 "metadata": {
  "kernelspec": {
   "display_name": "Python 3 (ipykernel)",
   "language": "python",
   "name": "python3"
  },
  "language_info": {
   "codemirror_mode": {
    "name": "ipython",
    "version": 3
   },
   "file_extension": ".py",
   "mimetype": "text/x-python",
   "name": "python",
   "nbconvert_exporter": "python",
   "pygments_lexer": "ipython3",
   "version": "3.12.7"
  }
 },
 "nbformat": 4,
 "nbformat_minor": 5
}
