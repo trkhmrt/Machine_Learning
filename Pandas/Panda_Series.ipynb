{
 "cells": [
  {
   "cell_type": "code",
   "execution_count": 1,
   "id": "3746ba27-5b5d-404b-ab64-55472624f4c1",
   "metadata": {},
   "outputs": [],
   "source": [
    "import pandas as pd"
   ]
  },
  {
   "cell_type": "code",
   "execution_count": 9,
   "id": "0dfd9385-3d07-4fb6-801f-17c60fa1634d",
   "metadata": {},
   "outputs": [],
   "source": [
    "#Sol tarafta indeksler sağ tarafta eleman\n",
    "seri = pd.Series([1,2,3,4,5])"
   ]
  },
  {
   "cell_type": "code",
   "execution_count": 11,
   "id": "9edb50b3-195e-41a8-b0ab-daae55c4f1fd",
   "metadata": {},
   "outputs": [
    {
     "data": {
      "text/plain": [
       "pandas.core.series.Series"
      ]
     },
     "execution_count": 11,
     "metadata": {},
     "output_type": "execute_result"
    }
   ],
   "source": [
    "type(seri)"
   ]
  },
  {
   "cell_type": "code",
   "execution_count": 13,
   "id": "63643f0f-3c6f-4bf7-b4cf-dcc623ef6060",
   "metadata": {},
   "outputs": [
    {
     "data": {
      "text/plain": [
       "[RangeIndex(start=0, stop=5, step=1)]"
      ]
     },
     "execution_count": 13,
     "metadata": {},
     "output_type": "execute_result"
    }
   ],
   "source": [
    "seri.axes"
   ]
  },
  {
   "cell_type": "code",
   "execution_count": 15,
   "id": "e6ddf287-90a5-472e-83af-86ea37cd11d5",
   "metadata": {},
   "outputs": [
    {
     "data": {
      "text/plain": [
       "1"
      ]
     },
     "execution_count": 15,
     "metadata": {},
     "output_type": "execute_result"
    }
   ],
   "source": [
    "seri.ndim"
   ]
  },
  {
   "cell_type": "code",
   "execution_count": 19,
   "id": "3a43a84d-06de-4586-84ff-3259472d7d6d",
   "metadata": {},
   "outputs": [
    {
     "data": {
      "text/plain": [
       "5"
      ]
     },
     "execution_count": 19,
     "metadata": {},
     "output_type": "execute_result"
    }
   ],
   "source": [
    "seri.size"
   ]
  },
  {
   "cell_type": "code",
   "execution_count": 21,
   "id": "3eb4f7b9-a562-47f9-ab2c-6fd3033f7cb2",
   "metadata": {},
   "outputs": [
    {
     "data": {
      "text/plain": [
       "array([1, 2, 3, 4, 5])"
      ]
     },
     "execution_count": 21,
     "metadata": {},
     "output_type": "execute_result"
    }
   ],
   "source": [
    "seri.values"
   ]
  },
  {
   "cell_type": "code",
   "execution_count": 25,
   "id": "72d2940b-9168-409a-833c-04c1f812510d",
   "metadata": {},
   "outputs": [
    {
     "data": {
      "text/plain": [
       "0    1\n",
       "1    2\n",
       "2    3\n",
       "dtype: int64"
      ]
     },
     "execution_count": 25,
     "metadata": {},
     "output_type": "execute_result"
    }
   ],
   "source": [
    "#Serinin ilk 3 gözlemini getirecek.\n",
    "seri.head(3)"
   ]
  },
  {
   "cell_type": "code",
   "execution_count": 29,
   "id": "d2ef8468-9fbd-40ac-bf00-9c40741018fd",
   "metadata": {},
   "outputs": [
    {
     "data": {
      "text/plain": [
       "2    3\n",
       "3    4\n",
       "4    5\n",
       "dtype: int64"
      ]
     },
     "execution_count": 29,
     "metadata": {},
     "output_type": "execute_result"
    }
   ],
   "source": [
    "#Seriye sondan bakıyor\n",
    "seri.tail(3)"
   ]
  },
  {
   "cell_type": "code",
   "execution_count": 31,
   "id": "d9948bec-1055-40b0-aedc-348c0e0dbcf4",
   "metadata": {},
   "outputs": [
    {
     "data": {
      "text/plain": [
       "0    19\n",
       "1    32\n",
       "2    36\n",
       "3    44\n",
       "4    59\n",
       "dtype: int64"
      ]
     },
     "execution_count": 31,
     "metadata": {},
     "output_type": "execute_result"
    }
   ],
   "source": [
    "#Index isimlendirmesi\n",
    "pd.Series([19,32,36,44,59])"
   ]
  },
  {
   "cell_type": "code",
   "execution_count": 33,
   "id": "a6178f7e-1505-49e8-a109-959a5c9d16e0",
   "metadata": {},
   "outputs": [
    {
     "data": {
      "text/plain": [
       "1     19\n",
       "3     32\n",
       "10    36\n",
       "20    44\n",
       "39    59\n",
       "dtype: int64"
      ]
     },
     "execution_count": 33,
     "metadata": {},
     "output_type": "execute_result"
    }
   ],
   "source": [
    "#Değerlere bizim verdiğmiiz indeks numaaralarını atar\n",
    "pd.Series([19,32,36,44,59],index = [1,3,10,20,39])"
   ]
  },
  {
   "cell_type": "code",
   "execution_count": 46,
   "id": "0130fa49-a4f6-4b9b-b468-bdf6670b5b98",
   "metadata": {},
   "outputs": [],
   "source": [
    "#Değerlere bizim verdiğmiiz indeks numaaralarını atar\n",
    "seri = pd.Series([19,32,36,44,59] , index = [\"a\",\"b\",\"c\",\"d\",\"e\"])"
   ]
  },
  {
   "cell_type": "code",
   "execution_count": 48,
   "id": "04a3041a-7dd3-4a03-a866-d0a2b4096f60",
   "metadata": {},
   "outputs": [
    {
     "data": {
      "text/plain": [
       "a    19\n",
       "b    32\n",
       "c    36\n",
       "d    44\n",
       "e    59\n",
       "dtype: int64"
      ]
     },
     "execution_count": 48,
     "metadata": {},
     "output_type": "execute_result"
    }
   ],
   "source": [
    "seri"
   ]
  },
  {
   "cell_type": "code",
   "execution_count": 52,
   "id": "81206e5e-3cfd-47c6-bab5-cb762f859b76",
   "metadata": {},
   "outputs": [
    {
     "data": {
      "text/plain": [
       "a    19\n",
       "b    32\n",
       "c    36\n",
       "dtype: int64"
      ]
     },
     "execution_count": 52,
     "metadata": {},
     "output_type": "execute_result"
    }
   ],
   "source": [
    "seri[\"a\":\"c\"]"
   ]
  },
  {
   "cell_type": "code",
   "execution_count": null,
   "id": "b686da67-7804-4848-a4f5-49b0c2b59fbd",
   "metadata": {},
   "outputs": [],
   "source": [
    "#SÖZLÜK"
   ]
  },
  {
   "cell_type": "code",
   "execution_count": 55,
   "id": "56d5bce3-ada6-41eb-879b-e9d1c48583a6",
   "metadata": {},
   "outputs": [],
   "source": [
    "sozluk = pd.Series({\"reg\":10,\"log\":11,\"cart\":12})"
   ]
  },
  {
   "cell_type": "code",
   "execution_count": 57,
   "id": "09d774ca-c660-4667-a872-665bb16e7830",
   "metadata": {},
   "outputs": [
    {
     "data": {
      "text/plain": [
       "reg     10\n",
       "log     11\n",
       "cart    12\n",
       "dtype: int64"
      ]
     },
     "execution_count": 57,
     "metadata": {},
     "output_type": "execute_result"
    }
   ],
   "source": [
    "sozluk"
   ]
  },
  {
   "cell_type": "code",
   "execution_count": null,
   "id": "02d690ee-b8fa-48d3-9e16-4e09347a9c23",
   "metadata": {},
   "outputs": [],
   "source": []
  }
 ],
 "metadata": {
  "kernelspec": {
   "display_name": "Python 3 (ipykernel)",
   "language": "python",
   "name": "python3"
  },
  "language_info": {
   "codemirror_mode": {
    "name": "ipython",
    "version": 3
   },
   "file_extension": ".py",
   "mimetype": "text/x-python",
   "name": "python",
   "nbconvert_exporter": "python",
   "pygments_lexer": "ipython3",
   "version": "3.12.7"
  }
 },
 "nbformat": 4,
 "nbformat_minor": 5
}
