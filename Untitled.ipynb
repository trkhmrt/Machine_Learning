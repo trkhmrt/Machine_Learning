{
 "cells": [
  {
   "cell_type": "code",
   "execution_count": 1,
   "id": "a709c566-305a-469c-910d-51486a151fa2",
   "metadata": {},
   "outputs": [],
   "source": [
    "#Array Ayırma"
   ]
  },
  {
   "cell_type": "code",
   "execution_count": 7,
   "id": "0d6d6db0-a74e-42c7-895e-6154470f4688",
   "metadata": {},
   "outputs": [],
   "source": [
    "import numpy as np"
   ]
  },
  {
   "cell_type": "code",
   "execution_count": 17,
   "id": "1672b84c-c0bf-4817-88f8-55610bbf2e85",
   "metadata": {},
   "outputs": [],
   "source": [
    "x = np.array([1,2,3,99,99,3,2,1])"
   ]
  },
  {
   "cell_type": "code",
   "execution_count": 27,
   "id": "98c005c7-b8b9-414c-a9be-ed5b9648c25d",
   "metadata": {},
   "outputs": [
    {
     "data": {
      "text/plain": [
       "[array([1, 2, 3]), array([99, 99]), array([3, 2, 1]), array([], dtype=int64)]"
      ]
     },
     "execution_count": 27,
     "metadata": {},
     "output_type": "execute_result"
    }
   ],
   "source": [
    "#başlangıçtan 3 e kadar alır geri kalanı bir dizi yapar.\n",
    "# 3, 5 => 3 e kadar al dizi yap  3 den sonra 5'e kadar al dizi yap ve geri kalanlarıda ayrı bir dizi yap\n",
    "np.split(x,[3,5,2])"
   ]
  }
 ],
 "metadata": {
  "kernelspec": {
   "display_name": "Python 3 (ipykernel)",
   "language": "python",
   "name": "python3"
  },
  "language_info": {
   "codemirror_mode": {
    "name": "ipython",
    "version": 3
   },
   "file_extension": ".py",
   "mimetype": "text/x-python",
   "name": "python",
   "nbconvert_exporter": "python",
   "pygments_lexer": "ipython3",
   "version": "3.12.7"
  }
 },
 "nbformat": 4,
 "nbformat_minor": 5
}
